{
  "cells": [
    {
      "cell_type": "markdown",
      "metadata": {
        "id": "view-in-github",
        "colab_type": "text"
      },
      "source": [
        "<a href=\"https://colab.research.google.com/github/Parag000/Text-To-Img-App/blob/main/Text_To_Image.ipynb\" target=\"_parent\"><img src=\"https://colab.research.google.com/assets/colab-badge.svg\" alt=\"Open In Colab\"/></a>"
      ]
    },
    {
      "cell_type": "code",
      "execution_count": null,
      "metadata": {
        "id": "BjrPmOZs5gyx"
      },
      "outputs": [],
      "source": [
        "!pip install transformers gradio scipy ftfy \"ipywidgets>=7,<8\" datasets diffusers\n",
        "!pip install accelerate\n",
        "!pip install gradio \n",
        "\n",
        "import gradio as gr\n",
        "from diffusers import StableDiffusionPipeline\n",
        "import torch"
      ]
    },
    {
      "cell_type": "code",
      "execution_count": null,
      "metadata": {
        "id": "C3pW1Lzh5n63"
      },
      "outputs": [],
      "source": [
        "def generate(Prompt):\n",
        "    model_id = \"dreamlike-art/dreamlike-photoreal-2.0\"\n",
        "    pipe = StableDiffusionPipeline.from_pretrained(model_id, torch_dtype=torch.float16)\n",
        "    pipe = pipe.to(\"cuda\")\n",
        "    image = pipe(Prompt).images[0]\n",
        "    return image\n"
      ]
    },
    {
      "cell_type": "code",
      "execution_count": null,
      "metadata": {
        "id": "paGWHNRr5n9i"
      },
      "outputs": [],
      "source": [
        "with gr.Blocks() as demo:  \n",
        "    gr.Markdown(\"\"\"\n",
        "    # Parag's Text To Image! \\n\n",
        "    The project is built using Stable Diffusion model\\n\n",
        "    To get high resolution animated images begin with \"dreamlikeart\" in the text prompt\n",
        "    \"\"\")\n",
        "\n",
        "    with gr.Row():\n",
        "        inp = gr.Textbox(placeholder=\"Enter text which describes an image!\")\n",
        "        out = gr.Image()\n",
        "    btn = gr.Button(\"Generate Image\")\n",
        "\n",
        "    btn.click(fn=generate, inputs=inp, outputs=out)\n",
        "    \n",
        "\n",
        "demo.launch(debug=True, share = True)"
      ]
    }
  ],
  "metadata": {
    "accelerator": "GPU",
    "colab": {
      "provenance": [],
      "authorship_tag": "ABX9TyOb5pKOmr1X0kkT2cPCOv6M",
      "include_colab_link": true
    },
    "gpuClass": "standard",
    "kernelspec": {
      "display_name": "Python 3",
      "name": "python3"
    },
    "language_info": {
      "name": "python"
    }
  },
  "nbformat": 4,
  "nbformat_minor": 0
}