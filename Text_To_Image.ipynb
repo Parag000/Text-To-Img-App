{
  "nbformat": 4,
  "nbformat_minor": 0,
  "metadata": {
    "colab": {
      "provenance": [],
      "authorship_tag": "ABX9TyOpnKcS32dB/Z+1AxBrsvf+",
      "include_colab_link": true
    },
    "kernelspec": {
      "name": "python3",
      "display_name": "Python 3"
    },
    "language_info": {
      "name": "python"
    },
    "accelerator": "GPU",
    "gpuClass": "standard"
  },
  "cells": [
    {
      "cell_type": "markdown",
      "metadata": {
        "id": "view-in-github",
        "colab_type": "text"
      },
      "source": [
        "<a href=\"https://colab.research.google.com/github/Parag000/Text-To-Img-App/blob/main/Text_To_Image.ipynb\" target=\"_parent\"><img src=\"https://colab.research.google.com/assets/colab-badge.svg\" alt=\"Open In Colab\"/></a>"
      ]
    },
    {
      "cell_type": "code",
      "execution_count": null,
      "metadata": {
        "id": "BjrPmOZs5gyx"
      },
      "outputs": [],
      "source": [
        "!pip install transformers gradio scipy ftfy \"ipywidgets>=7,<8\" datasets diffusers\n",
        "!pip install accelerate\n",
        "!pip install gradio \n",
        "\n",
        "import gradio as gr\n",
        "from diffusers import StableDiffusionPipeline\n",
        "import torch"
      ]
    },
    {
      "cell_type": "code",
      "source": [
        "def generate(prompt):\n",
        "    model_id = \"dreamlike-art/dreamlike-photoreal-2.0\"\n",
        "    pipe = StableDiffusionPipeline.from_pretrained(model_id, torch_dtype=torch.float16)\n",
        "    pipe = pipe.to(\"cuda\")\n",
        "    image = pipe(prompt).images[0]\n",
        "    return image\n"
      ],
      "metadata": {
        "id": "C3pW1Lzh5n63"
      },
      "execution_count": null,
      "outputs": []
    },
    {
      "cell_type": "code",
      "source": [
        "demo = gr.Blocks()\n",
        "with demo:  \n",
        "    gr.Markdown(\"\"\"\n",
        "    # Parag's Text To Image!\n",
        "    Enter text below\n",
        "    \"\"\")\n",
        "\n",
        "    gr.Interface(fn=generate, inputs=\"text\", outputs=\"image\")\n",
        "    \n",
        "\n",
        "demo.launch(debug=True, share = True)"
      ],
      "metadata": {
        "id": "paGWHNRr5n9i"
      },
      "execution_count": null,
      "outputs": []
    }
  ]
}