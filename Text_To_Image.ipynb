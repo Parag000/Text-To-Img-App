{
  "nbformat": 4,
  "nbformat_minor": 0,
  "metadata": {
    "colab": {
      "provenance": [],
      "authorship_tag": "ABX9TyNrWT7iO2M0EZMuMHz+odXn",
      "include_colab_link": true
    },
    "kernelspec": {
      "name": "python3",
      "display_name": "Python 3"
    },
    "language_info": {
      "name": "python"
    },
    "accelerator": "GPU",
    "gpuClass": "standard"
  },
  "cells": [
    {
      "cell_type": "markdown",
      "metadata": {
        "id": "view-in-github",
        "colab_type": "text"
      },
      "source": [
        "<a href=\"https://colab.research.google.com/github/Parag000/Text-To-Img-App/blob/main/Text_To_Image.ipynb\" target=\"_parent\"><img src=\"https://colab.research.google.com/assets/colab-badge.svg\" alt=\"Open In Colab\"/></a>"
      ]
    },
    {
      "cell_type": "code",
      "execution_count": null,
      "metadata": {
        "id": "BjrPmOZs5gyx"
      },
      "outputs": [],
      "source": [
        "!pip install transformers gradio scipy ftfy \"ipywidgets>=7,<8\" datasets diffusers\n",
        "!pip install accelerate\n",
        "!pip install gradio \n",
        "\n",
        "import gradio as gr\n",
        "from diffusers import StableDiffusionPipeline\n",
        "import torch"
      ]
    },
    {
      "cell_type": "code",
      "source": [
        "def generate(prompt):\n",
        "    model_id = \"dreamlike-art/dreamlike-photoreal-2.0\"\n",
        "    pipe = StableDiffusionPipeline.from_pretrained(model_id, torch_dtype=torch.float16)\n",
        "    pipe = pipe.to(\"cuda\")\n",
        "    image = pipe(prompt).images[0]\n",
        "    return image\n"
      ],
      "metadata": {
        "id": "C3pW1Lzh5n63"
      },
      "execution_count": null,
      "outputs": []
    },
    {
      "cell_type": "code",
      "source": [
        "demo = gr.Blocks()\n",
        "with demo:  \n",
        "    gr.Markdown(\"\"\"\n",
        "    # Parag's Text To Image!\n",
        "    Enter text below\n",
        "    \"\"\")\n",
        "\n",
        "    gr.Interface(fn=generate, inputs=\"text\", outputs=\"image\")\n",
        "    \n",
        "\n",
        "demo.launch(debug=True, share = True)"
      ],
      "metadata": {
        "colab": {
          "base_uri": "https://localhost:8080/"
        },
        "id": "paGWHNRr5n9i",
        "outputId": "e347c247-4b7a-4a14-a535-a8c3d47fc5a9"
      },
      "execution_count": null,
      "outputs": [
        {
          "output_type": "stream",
          "name": "stdout",
          "text": [
            "Keyboard interruption in main thread... closing server.\n",
            "Killing tunnel 127.0.0.1:7860 <> https://4337c4c8-5c01-454c.gradio.live\n"
          ]
        },
        {
          "output_type": "execute_result",
          "data": {
            "text/plain": []
          },
          "metadata": {},
          "execution_count": 3
        }
      ]
    },
    {
      "cell_type": "code",
      "source": [],
      "metadata": {
        "id": "Mb9J1mV_5oAU"
      },
      "execution_count": null,
      "outputs": []
    },
    {
      "cell_type": "code",
      "source": [],
      "metadata": {
        "id": "QvtFKOCJ5oCl"
      },
      "execution_count": null,
      "outputs": []
    }
  ]
}